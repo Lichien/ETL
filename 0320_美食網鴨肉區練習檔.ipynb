{
 "cells": [
  {
   "cell_type": "code",
   "execution_count": 42,
   "metadata": {
    "collapsed": false
   },
   "outputs": [
    {
     "name": "stdout",
     "output_type": "stream",
     "text": [
      "http://recipe.ytower.com.tw/Recipe/Detail/3225f2a0-b02d-472f-a3b9-489912393b1d/%E9%85%B8%E8%8F%9C%E9%B4%A8\n",
      "http://recipe.ytower.com.tw/Recipe/Detail/2eead4fd-0b7f-4cfc-b953-a35fdf69e36c/%E7%95%B6%E6%AD%B8%E9%B4%A8\n",
      "http://recipe.ytower.com.tw/Recipe/Detail/4559f235-5edb-4d4d-8e31-a4973bca8cc9/%E8%96%91%E6%AF%8D%E9%B4%A8\n",
      "http://recipe.ytower.com.tw/Recipe/Detail/61bfe51a-a0da-4132-8f44-bd00f080f85a/%E9%A6%99%E8%9D%A6%E6%8B%8C%E9%B4%A8%E8%85%B8\n",
      "http://recipe.ytower.com.tw/Recipe/Detail/c3a8df8a-821b-4480-b799-5ce5a830fbbf/%E8%96%91%E6%AF%8D%E7%87%89%E9%B4%A8\n",
      "http://recipe.ytower.com.tw/Recipe/Detail/7deb0e10-0acd-43cc-aa83-fd8df7304a3a/%E9%A6%99%E8%8A%B9%E6%8B%8C%E7%83%A4%E9%B4%A8\n",
      "http://recipe.ytower.com.tw/Recipe/Detail/c7d88fee-ca9c-448f-8bab-f320ccbf44fc/%E6%B6%BC%E6%8B%8C%E9%B4%A8%E6%8E%8C\n",
      "http://recipe.ytower.com.tw/Recipe/Detail/d8b2250f-c96f-4b0c-bc6b-2e2ffea4f63b/%E8%8A%B9%E8%8F%9C%E7%82%92%E9%B4%A8%E8%85%B8\n",
      "http://recipe.ytower.com.tw/Recipe/Detail/be84b051-4944-40af-9a32-8ed0cd18629e/%E8%96%91%E6%AF%8D%E9%B4%A8\n",
      "http://recipe.ytower.com.tw/Recipe/Detail/762925b7-f8c0-4be5-9265-d7ef58cddb17/%E7%95%B6%E6%AD%B8%E9%B4%A8\n"
     ]
    }
   ],
   "source": [
    "#試抓http://recipe.ytower.com.tw/Channel/MultiSearchRecipes?catalogs=%E9%B4%A8%E8%82%89頁面10道菜的連結\n",
    "import requests\n",
    "from bs4 import BeautifulSoup\n",
    "res = requests.get('http://recipe.ytower.com.tw/Channel/MultiSearchRecipes/?catalogs=%E9%B4%A8%E8%82%89')\n",
    "#print res.text\n",
    "soup = BeautifulSoup(res.text)                     \n",
    "main =  soup.select('.rcplist_box')[0].select('.left_box') #select完的物件是個list，要用註標值抓出\n",
    "#print main \n",
    "for i in  main:\n",
    "    #print i.select('a')[0]['href'] #每道菜都放在自己的.left_box中，故用for迴圈全部抓出，需要的東西放在a標籤裡的href，以['href']表示， \n",
    "    print 'http://recipe.ytower.com.tw'+ i.select('a')[0]['href'] #比較抓出的連結和實際連結的不同，加上前面需要的部分"
   ]
  },
  {
   "cell_type": "code",
   "execution_count": null,
   "metadata": {
    "collapsed": true
   },
   "outputs": [],
   "source": [
    "#比較抓出的網址和實際的差異\n",
    "'                           /Recipe/Detail/9d79a416-1ab1-46f1-82c7-2fbdcd1d3b69/%E4%B8%80%E4%B8%B2%E5%BF%83%E5%9C%9F%E5%8F%B8'\n",
    "'http://recipe.ytower.com.tw/Recipe/Detail/9d79a416-1ab1-46f1-82c7-2fbdcd1d3b69/%E4%B8%80%E4%B8%B2%E5%BF%83%E5%9C%9F%E5%8F%B8'\n"
   ]
  },
  {
   "cell_type": "code",
   "execution_count": 40,
   "metadata": {
    "collapsed": false
   },
   "outputs": [],
   "source": [
    "import requests,math\n",
    "from bs4 import BeautifulSoup\n",
    "\n",
    "duck_file = open(\"duck.txt\", 'w') #開啟一個要寫入的txt檔叫duck\n",
    "\n",
    "counts = soup.select('.rcp_tab03')[0].text[3:-1] #找出總共有幾筆\n",
    "pagenum =  int(math.ceil(float(counts) /10)) #計算有幾頁要抓\n",
    "\n",
    "f ='http://recipe.ytower.com.tw/Channel/MultiSearchRecipes?value=&catalogs=%E9%B4%A8%E8%82%89&page={0}'\n",
    "#觀察網站每頁的規律，寫成format\n",
    "\n",
    "for page in range(1,pagenum+1):\n",
    "    res = requests.get(f.format(page)) \n",
    "    response = res.text.encode('utf8')\n",
    "    soup = BeautifulSoup(response)\n",
    "    for i in soup.select('.left_box'):\n",
    "        tag = i.select('a')[0]\n",
    "        href ='http://recipe.ytower.com.tw' + tag['href'] #取得完整網址\n",
    "        duck_file.write(href + \"\\n\") #寫入txt檔案中\n",
    "\n",
    "duck_file.close()\n",
    "\n"
   ]
  },
  {
   "cell_type": "code",
   "execution_count": 41,
   "metadata": {
    "collapsed": false
   },
   "outputs": [
    {
     "name": "stdout",
     "output_type": "stream",
     "text": [
      "137\n"
     ]
    }
   ],
   "source": [
    "bid_readfile = open(\"duck.txt\", 'r')\n",
    "print len([a for a in bid_readfile.readlines()]) #驗證txt檔案筆數是否正確\n",
    "bid_readfile.close()"
   ]
  },
  {
   "cell_type": "code",
   "execution_count": null,
   "metadata": {
    "collapsed": false
   },
   "outputs": [],
   "source": []
  },
  {
   "cell_type": "code",
   "execution_count": null,
   "metadata": {
    "collapsed": true
   },
   "outputs": [],
   "source": []
  }
 ],
 "metadata": {
  "kernelspec": {
   "display_name": "Python 2",
   "language": "python",
   "name": "python2"
  },
  "language_info": {
   "codemirror_mode": {
    "name": "ipython",
    "version": 2
   },
   "file_extension": ".py",
   "mimetype": "text/x-python",
   "name": "python",
   "nbconvert_exporter": "python",
   "pygments_lexer": "ipython2",
   "version": "2.7.9"
  }
 },
 "nbformat": 4,
 "nbformat_minor": 0
}
