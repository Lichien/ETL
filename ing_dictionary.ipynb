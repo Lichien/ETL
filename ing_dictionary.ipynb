{
 "cells": [
  {
   "cell_type": "code",
   "execution_count": 9,
   "metadata": {
    "collapsed": false
   },
   "outputs": [],
   "source": [
    "test_file = open('abc.csv','r')\n",
    "test1 = open('abc.txt','w')\n",
    "for i in test_file.readlines():\n",
    "    test1.write(i)\n",
    "\n",
    "test1.close()\n",
    "test_file.close()"
   ]
  },
  {
   "cell_type": "code",
   "execution_count": 33,
   "metadata": {
    "collapsed": false
   },
   "outputs": [
    {
     "name": "stdout",
     "output_type": "stream",
     "text": [
      "牛腸 牛腸\n",
      "牛後腿肉 牛後腿肉\n",
      "牛培根 牛肉片\n",
      "牛肉片 牛肉片\n",
      "沙朗牛排 牛排\n",
      "牛肉 ﻿牛肉\n",
      "牛腿肉 牛後腿肉\n",
      "去骨牛小排 牛排\n",
      "牛腩 牛腩\n",
      "雪花牛肉 牛肉片\n",
      "牛前胸肉 牛前胸肉\n",
      "牛肚 牛肚\n",
      "牛肝 牛肝\n",
      "牛去骨肩胛小排 牛排\n",
      "牛尾 牛尾\n",
      "肋眼牛排 牛排\n",
      "去骨紐約克牛排 牛排\n",
      "毛肚 牛肚\n",
      "帶骨牛小排 牛排\n",
      "牛肉火腿 牛肉片\n",
      "牛肋條 牛肋條\n",
      "腓力牛排 牛排\n",
      "牛骨 牛骨\n",
      "牛鞭 牛鞭\n",
      "霜降牛肉 牛肉片\n",
      "牛肉絲 牛肉絲\n",
      "滷牛筋 牛筋\n",
      "牛腱 牛腱\n",
      "腱子心 牛腱\n",
      "安格斯牛小排 牛排\n",
      "牛五花 牛肉片\n",
      "碎牛肉 牛絞肉\n",
      "牛心 牛心\n",
      "丁骨牛排\n",
      "牛排\n",
      "牛小排 牛排\n",
      "牛筋 牛筋\n",
      "牛絞肉 牛絞肉\n",
      "牛排 牛排\n",
      "牛骨頭 牛骨\n",
      "牛舌 牛舌\n"
     ]
    }
   ],
   "source": [
    "test_file1 = open('abc.txt','r')\n",
    "dic={}\n",
    "for i in test_file1.readlines():\n",
    "    if '' in i.split(','):\n",
    "        a = i.split(',')[:i.split(',').index('')]\n",
    "        for j in a[1:]:\n",
    "            dic[j] = a[0]\n",
    "    else:\n",
    "        a = i.split(',')\n",
    "        for j in a[1:]:\n",
    "            dic[j] = a[0]\n",
    "\n",
    "for k in dic:\n",
    "    print k, dic[k]\n",
    "\n",
    "test_file1.close()"
   ]
  },
  {
   "cell_type": "code",
   "execution_count": 34,
   "metadata": {
    "collapsed": true
   },
   "outputs": [],
   "source": []
  },
  {
   "cell_type": "code",
   "execution_count": null,
   "metadata": {
    "collapsed": true
   },
   "outputs": [],
   "source": []
  }
 ],
 "metadata": {
  "kernelspec": {
   "display_name": "Python 2",
   "language": "python",
   "name": "python2"
  },
  "language_info": {
   "codemirror_mode": {
    "name": "ipython",
    "version": 2
   },
   "file_extension": ".py",
   "mimetype": "text/x-python",
   "name": "python",
   "nbconvert_exporter": "python",
   "pygments_lexer": "ipython2",
   "version": "2.7.9"
  }
 },
 "nbformat": 4,
 "nbformat_minor": 0
}
