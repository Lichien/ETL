{
 "cells": [
  {
   "cell_type": "code",
   "execution_count": 2,
   "metadata": {
    "collapsed": true
   },
   "outputs": [],
   "source": [
    "test_file = open('ingredient_lists.csv','r')\n",
    "test1 = open('ingredient_lists.txt','w')\n",
    "for i in test_file.readlines():\n",
    "    test1.write(i)\n",
    "\n",
    "test1.close()\n",
    "test_file.close()"
   ]
  },
  {
   "cell_type": "code",
   "execution_count": 7,
   "metadata": {
    "collapsed": false
   },
   "outputs": [],
   "source": [
    "test_file1 = open('ingredient_lists.txt','r')\n",
    "dic={}\n",
    "for i in test_file1.readlines():\n",
    "    if '' in i.split(','):\n",
    "        a = i.split(',')[:i.split(',').index('')]\n",
    "        for j in a[1:]:\n",
    "            dic[j] = a[0]\n",
    "    else:\n",
    "        a = i.split(',')\n",
    "        for j in a[1:]:\n",
    "            dic[j] = a[0]\n",
    "\n",
    "test_file2 = open('dic_add.txt','w')\n",
    "for k in dic:\n",
    "    test_file2.write(k+' 3'+' n'+'\\n')\n",
    "    \n",
    "test_file2.close()\n",
    "test_file1.close()"
   ]
  },
  {
   "cell_type": "code",
   "execution_count": 91,
   "metadata": {
    "collapsed": false
   },
   "outputs": [
    {
     "name": "stdout",
     "output_type": "stream",
     "text": [
      "豬肉蔬菜咖哩 豬肉絲 100公克 冷凍三色蔬菜 250公克 洋蔥丁 50公克 蒜末 10公克 太白粉水 1大匙 咖哩粉 2大匙 鹽 1/2茶匙 椰漿 50㏄ 細砂糖 1茶匙 水 200㏄ \n",
      "\n",
      "蛋皮蛋包飯 雞蛋 2顆 茄汁炒飯 1碗 太白粉 1茶匙 水 1茶匙 米酒 1/2茶匙 鹽 1/8茶匙 \n",
      "\n",
      "茄汁炒飯 白飯 220克 火腿丁 50公克 蔥花 20公克 蕃茄醬 2大匙 白胡椒粉 1/8茶匙 \n",
      "\n",
      "滑嫩蛋包飯 A.雞蛋 3顆 鮮奶 30㏄ 茄汁炒飯 1碗 B.蒜末 10克 蕃茄丁 50克 蕃茄醬 3大匙 市售高湯 100㏄ 鹽 1/4茶匙 無鹽奶油 3大匙 \n",
      "\n",
      "海苔蛋皮 雞蛋 4顆 海苔粉 1大匙 鹽 1/8茶匙 太白粉 2茶匙 米酒 1茶匙 水 1大匙 \n",
      "\n",
      "美式蛋捲 雞蛋 3顆 鮮奶 1大匙 無鹽奶油 2大匙 洋蔥絲 20公克 蕃茄片 2片 青椒絲 20公克 起司片 2片 鹽 1/4茶匙 \n",
      "\n",
      "蔥燒獅子頭 豬絞肉 600公克 綠花椰菜 300公克 豆腐 100公克 紅辣椒 20公克 荸薺 100公克 蔥 30公克 薑 30公克 A.鹽 1小匙 糖 1大匙 雞粉 1小匙 醬油 1小匙 白胡椒粉 1小匙 水 1800㏄ B.醬油 1小匙 米酒 1小匙 香油 1小匙 太白粉 1小匙 白胡椒粉 1小匙 \n",
      "\n",
      "紅燒牛腩 牛腩 600公克 紅蘿蔔 200公克 蔥 40公克 蒜頭 30公克 薑 30公克 紅辣椒 20公克 香料：八角 適量 花椒 適量 白豆蔻 適量 丁香 適量 甘草 適量 小茴香 適量 蠔油 3大匙 醬油 2大匙 辣椒醬 1大匙 糖 2大匙 料理米酒 3大匙 水 1500㏄ \n",
      "\n",
      "咖哩燒雞塊 土雞 250公克 咖哩粉 30公克 洋蔥塊 40公克 紅甜椒片 30公克 黃甜椒片 30公克 椰奶 70㏄ A.鹽 1大匙 糖 1茶匙 料理米酒 1大匙 水 400㏄ B.太白粉水 1茶匙 \n",
      "\n"
     ]
    }
   ],
   "source": [
    "import jieba\n",
    "jieba.set_dictionary('ingridients_dict.txt.big')\n",
    "#jieba.set_dictionary('dict.txt.big')\n",
    "test_file3 = open('YTower_ingregients_20791.txt','r')\n",
    "for recipe in test_file3.readlines()[1:10]:\n",
    "    a = recipe.split(',')[:recipe.split(',').index('\\n')]\n",
    "    for i in a:\n",
    "        print i,\n",
    "    print '\\n'"
   ]
  },
  {
   "cell_type": "code",
   "execution_count": 144,
   "metadata": {
    "collapsed": false
   },
   "outputs": [
    {
     "name": "stderr",
     "output_type": "stream",
     "text": [
      "Building prefix dict from C:\\Users\\User\\III_FP\\ingridients_dict.txt.big ...\n",
      "DEBUG:jieba:Building prefix dict from C:\\Users\\User\\III_FP\\ingridients_dict.txt.big ...\n",
      "Loading model from cache c:\\users\\user\\appdata\\local\\temp\\jieba.u330eeec0209496e0e7beb9f4b31a549d.cache\n",
      "DEBUG:jieba:Loading model from cache c:\\users\\user\\appdata\\local\\temp\\jieba.u330eeec0209496e0e7beb9f4b31a549d.cache\n",
      "Loading model cost 1.09999990463 seconds.\n",
      "DEBUG:jieba:Loading model cost 1.09999990463 seconds.\n",
      "Prefix dict has been built succesfully.\n",
      "DEBUG:jieba:Prefix dict has been built succesfully.\n"
     ]
    }
   ],
   "source": [
    "import jieba\n",
    "jieba.set_dictionary('ingridients_dict.txt.big')\n",
    "#jieba.set_dictionary('dict.txt.big')\n",
    "undic=[]\n",
    "test_file3 = open('YTower_ingregients_20791.txt','r')\n",
    "test_file4 = open('YTower_ingregients_test_has_tags.txt','w')\n",
    "test_file5 = open('undic.txt','w')\n",
    "\n",
    "for recipe in test_file3.readlines():\n",
    "    a = recipe.split(',')[1:]\n",
    "    b = recipe.split(',')\n",
    "    #a = recipe.split(',')[1:recipe.split(',').index('\\n')]\n",
    "    #b = recipe.split(',')[:recipe.split(',').index('\\n')]\n",
    "    \n",
    "    for idx in range(0,len(a),2):\n",
    "        #print a[idx]\n",
    "        li = list(jieba.cut(a[idx], cut_all=False))\n",
    "        for j in li:\n",
    "            if dic.has_key(j.encode('utf-8')):\n",
    "                b.append(dic[j.encode('utf-8')])\n",
    "            else:\n",
    "                undic.append(j)\n",
    "    for qoo in b:\n",
    "        test_file4.write(qoo +',')\n",
    "    test_file4.write('\\n')\n",
    "    \n",
    "    \n",
    "for unlist_ind in undic:\n",
    "    test_file5.write(unlist_ind.encode('utf-8')+' ')\n",
    "\n",
    "test_file3.close()\n",
    "test_file4.close()\n",
    "test_file5.close()"
   ]
  },
  {
   "cell_type": "code",
   "execution_count": 149,
   "metadata": {
    "collapsed": false
   },
   "outputs": [],
   "source": [
    "import operator\n",
    "# -*- coding:utf-8 -*- \n",
    "f = open(\"undic.txt\", 'r')\n",
    "f2 = open('undic_itemcounts.txt','w')\n",
    "not_in_dic_ingre = {}\n",
    "for oop in f.readlines():\n",
    "    ele = oop.strip().split()\n",
    "    for word in ele:\n",
    "        if word in not_in_dic_ingre:\n",
    "            not_in_dic_ingre[word] = not_in_dic_ingre[word] + 1\n",
    "        else:\n",
    "            not_in_dic_ingre[word] = 1\n",
    "\n",
    "sorted_x = sorted(not_in_dic_ingre.items(), key=operator.itemgetter(1), reverse=True)\n",
    "\n",
    "for item in sorted_x:\n",
    "    f2.write(item[0]+','+str(item[1])+'\\n')\n",
    "\n",
    "f.close()\n",
    "f2.close()\n"
   ]
  },
  {
   "cell_type": "code",
   "execution_count": null,
   "metadata": {
    "collapsed": false
   },
   "outputs": [],
   "source": []
  },
  {
   "cell_type": "code",
   "execution_count": null,
   "metadata": {
    "collapsed": true
   },
   "outputs": [],
   "source": []
  },
  {
   "cell_type": "code",
   "execution_count": null,
   "metadata": {
    "collapsed": true
   },
   "outputs": [],
   "source": []
  },
  {
   "cell_type": "code",
   "execution_count": 131,
   "metadata": {
    "collapsed": false
   },
   "outputs": [
    {
     "name": "stdout",
     "output_type": "stream",
     "text": [
      "False\n"
     ]
    }
   ],
   "source": [
    "print dic.has_key('里肌肉')"
   ]
  }
 ],
 "metadata": {
  "kernelspec": {
   "display_name": "Python 2",
   "language": "python",
   "name": "python2"
  },
  "language_info": {
   "codemirror_mode": {
    "name": "ipython",
    "version": 2
   },
   "file_extension": ".py",
   "mimetype": "text/x-python",
   "name": "python",
   "nbconvert_exporter": "python",
   "pygments_lexer": "ipython2",
   "version": "2.7.9"
  }
 },
 "nbformat": 4,
 "nbformat_minor": 0
}
