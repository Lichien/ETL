{
 "cells": [
  {
   "cell_type": "code",
   "execution_count": 2,
   "metadata": {
    "collapsed": false
   },
   "outputs": [],
   "source": [
    "##《 Step 1 》\n",
    "#skip duplicate 篩檔案完全重複的row\n",
    "#All.txt格式和All-no-dup.txt都是『食材名, 單位, 重量, 大卡』\n",
    "in_file = open('All.txt','r')\n",
    "out_file = open('All-no-dup.txt','w')\n",
    "unique = set()\n",
    "for line in in_file.readlines():\n",
    "    if line in unique: \n",
    "        continue \n",
    "    else:\n",
    "        unique.add(line)\n",
    "        out_file.write(line)\n",
    "in_file.close()\n",
    "out_file.close()\n",
    "\n",
    "##《 Step 2》\n",
    "#把第每一欄的東東切乾淨\n",
    "in_file = open('All-no-dup.txt','r')\n",
    "out_file = open('All-clean.txt','w')\n",
    "for i in in_file.readlines(): #因為有些第一欄有多的逗號, 所以切四塊, 並精確滴寫回去\n",
    "    a = i.split(',')[0] #食材名\n",
    "    c = i.rsplit(',',3)[1] #單位\n",
    "    d = i.rsplit(',',3)[2] #重量\n",
    "    e = i.rsplit(',',3)[3] #大卡\n",
    "    if '（' in a:\n",
    "        b = a.split('（')[0]\n",
    "        out_file.write((b+','+c+','+d+','+e))\n",
    "    elif '(' in a:\n",
    "        b = a.split('(')[0]\n",
    "        out_file.write((b+','+c+','+d+','+e))\n",
    "    else:\n",
    "        out_file.write(i) \n",
    "        \n",
    "in_file.close()\n",
    "out_file.close()\n"
   ]
  },
  {
   "cell_type": "code",
   "execution_count": 3,
   "metadata": {
    "collapsed": true
   },
   "outputs": [],
   "source": [
    "##《 Step 3 》\n",
    "\n",
    "#calculate kal per unit(g) 第五欄位每克有幾卡\n",
    "#用正規表達法處理數字加其他字元\n",
    "#可以先測試一下\n",
    "#import re \n",
    "#Amm = re.match(r'(?P<num>\\d+).*','100g')\n",
    "#Bmm = re.match(r'(?P<num>\\d+).*','100大卡')\n",
    "#print Amm.group(\"num\")\n",
    "#print Bmm.group(\"num\")\n",
    "#結果 100,100 ; 可以成功切開第4欄惱人的g, 克, ml; 第5欄的卡,大卡...etc. \n",
    "\n",
    "\n",
    "import re \n",
    "in_file = open('All-clean.txt','r')\n",
    "out_file = open('Calories_table1.txt','w')\n",
    "\n",
    "for i in in_file.readlines():\n",
    "    q1 = i.split(',')[0].strip() #食材名\n",
    "    q2 = i.split(',')[1].strip() #單位\n",
    "    q3 = i.split(',')[2].strip() #重量\n",
    "    q4 = i.split(',')[3].strip() #\n",
    "    Amm = re.match(r'(?P<num>\\d+).*',q3) #eg. 100g; 100克 \n",
    "    Bmm = re.match(r'(?P<num>\\d+).*',q4) #eg. 100大卡; 100卡 \n",
    "    if (Amm is not None) & (Bmm is not None):\n",
    "        qq4 = Bmm.group(\"num\") #eg. -> 100\n",
    "        qq3 = Amm.group(\"num\") #eg. -> 100\n",
    "        q5 = float(qq4)/float(qq3) #計算大卡/重量(g)\n",
    "        out_file.write(str(q1) +','+ str(qq3) +','+ str(qq4) +','+ str(q5) +','+ str(q2) +'\\n') #重新排版一下; 數量單位放到最後\n",
    "    else:\n",
    "        out_file.write(str(q1) +','+ str(q3) +','+ str(q4) +',,'+ str(q2) +'\\n')#重新排版一下; 數量單位放到最後\n",
    "in_file.close()\n",
    "out_file.close()\n",
    "\n",
    "#進來滴All-clean.txt 的格式是「食材名, 單位, 重量, 大卡」\n",
    "#出去滴Calories_table1.txt 的格式reshape成「食材名, 重量, 大卡, kal/g, 單位」\n"
   ]
  },
  {
   "cell_type": "code",
   "execution_count": 4,
   "metadata": {
    "collapsed": false
   },
   "outputs": [],
   "source": [
    "##《 Step 4 》\n",
    "\n",
    "#找出同樣食材名稱with不同單位和熱量; = 第一欄一樣, 後面不一樣\n",
    "#Calories_table1.txt 的格式「食材名, 重量, 大卡, kal/g, 單位」\n",
    "\n",
    "in_file = open('Calories_table1.txt','r')\n",
    "count = {} #築一個字典 {count[a]: value}\n",
    "for i in in_file.readlines(): \n",
    "    a = i.split(',',4)[0] #食材名\n",
    "    if a in count: #食材名有在字典嗎？\n",
    "        count[a] = count[a] + 1 #有的話value就+1\n",
    "    else:\n",
    "        count[a] = 1 #沒有的話value就＝1\n",
    "in_file.close()\n",
    "\n",
    "#在count這個字典中，要是>1就是代表『第一欄一樣, 後面不一樣』; 拉出來append到dup list\n",
    "dup=[] \n",
    "for k in count:\n",
    "    #print k, count[k]\n",
    "    if count[k] >1:\n",
    "        dup.append(k)\n"
   ]
  },
  {
   "cell_type": "code",
   "execution_count": 5,
   "metadata": {
    "collapsed": true
   },
   "outputs": [],
   "source": [
    "##《 Step 5 》\n",
    "\n",
    "#分別寫入兩個檔案 \n",
    "#dups寫入ingre_dups.txt\n",
    "in_file = open('Calories_table1.txt','r')\n",
    "out_file1 = open('ingre_dups.txt','w')\n",
    "QaaList= []\n",
    "for Qaa in in_file.readlines(): #把Calories_table1.txt的每一行放到QaaList\n",
    "    QaaList.append(Qaa)\n",
    "for g in dup: #在dup字典裡面的食材\n",
    "    for j in QaaList: \n",
    "        if g == j.split(',')[0]: #要是＝Calories_table1.txt的\"第一欄\"\n",
    "            out_file1.write(j) #整行『j』寫入ingre_dups.txt\n",
    "in_file.close()\n",
    "out_file1.close()"
   ]
  },
  {
   "cell_type": "code",
   "execution_count": 6,
   "metadata": {
    "collapsed": true
   },
   "outputs": [],
   "source": [
    "#no dups寫入ingre_no_dups.txt\n",
    "#類似上面寫法\n",
    "in_file = open('Calories_table1.txt','r')\n",
    "out_file1 = open('ingre_dups.txt','r')\n",
    "out_file2 = open('ingre_no_dups.txt','w')\n",
    "QaaList= []\n",
    "QccList= []\n",
    "for Qaa in in_file.readlines(): #把Calories_table1.txt的每一行放到QaaList\n",
    "    QaaList.append(Qaa)\n",
    "for Qcc in out_file1.readlines(): #把ingre_dups.txt的每一行放到QccList\n",
    "    QccList.append(Qcc)\n",
    "\n",
    "no_dups = []    \n",
    "for Qxx in QaaList: \n",
    "    if Qxx not in QccList:\n",
    "        no_dups.append(Qxx)\n",
    "        out_file2.write(Qxx)\n",
    "out_file2.close()\n",
    "out_file1.close()\n",
    "in_file.close()"
   ]
  },
  {
   "cell_type": "code",
   "execution_count": null,
   "metadata": {
    "collapsed": false
   },
   "outputs": [],
   "source": [
    "##《 Step 6 》\n",
    "#use R to output ingre_dups1.txt\n",
    "\n",
    "####問老歌，怎麼直接把單位合併在最後\n",
    "#reshape?Aggregate? \n",
    "\n",
    "'''\n",
    "Qoo = read.table(\"ingre_dups.txt\",sep=\",\")\n",
    "library(dplyr)\n",
    "str(Qoo)\n",
    "\n",
    "Qoo$V2 = as.integer(as.character(Qoo$V2))\n",
    "Qoo$V3 = as.integer(as.character(Qoo$V3))\n",
    "\n",
    "Qxx = \n",
    "  Qoo %>% \n",
    "  group_by(V1) %>% \n",
    "  summarise(WeightMean = mean(V2,na.rm = T),KalMean = mean(V3, na.rm = T),PerGramMean = mean(V4, na.rm = T))\n",
    "\n",
    "write.table(Qxx, \"ingre_dups1.txt\",sep=\",\",quote = F, row.names = F,\n",
    "              col.names = F)\n",
    "Qyy =\n",
    "select(Qoo, V1, V5) %>% \n",
    "  filter(V5 != '') %>% \n",
    "  distinct(V1,V5)\n",
    "\n",
    "write.table(Qxx, \"ingre_units.txt\",sep=\",\",quote = F, row.names = F,\n",
    "            col.names = F)\n",
    "\n",
    "write.table(inner_join(Qxx, Qyy), \"joined.txt\",sep=\",\",quote = F, row.names = F,\n",
    "            col.names = F)\n",
    "'''\n"
   ]
  },
  {
   "cell_type": "code",
   "execution_count": null,
   "metadata": {
    "collapsed": true
   },
   "outputs": [],
   "source": [
    "##《 Step 7 》\n",
    "#把食材褲同義詞建成字典格式\n",
    "\n",
    "test_file1 = open('ingredient_lists.txt','r')\n",
    "dic={}\n",
    "lines_counter = 0\n",
    "for i in test_file1.readlines():\n",
    "    if test_file1 != '\\n': #算一下file有幾行 = 有多少食材tag\n",
    "        lines_counter += 1\n",
    "    if '' in i.split(','): \n",
    "        a = i.split(',')[:i.split(',').index('')] #如果有空白的話，把後面空白截掉\n",
    "        for j in a[1:]:\n",
    "            dic[j] = a[0] #把同義詞對到食材\n",
    "    else:\n",
    "        a = i.split(',') \n",
    "        for j in a[1:]:\n",
    "            dic[j] = a[0]\n",
    "            \n",
    "print '食材tag數量： ', lines_counter\n",
    "QQQ = len(dic)-lines_counter\n",
    "print '食材（含同義字）數量： ', QQQ\n",
    "\n",
    "#for k in dic:\n",
    "    #print k, dic[k]"
   ]
  },
  {
   "cell_type": "code",
   "execution_count": 8,
   "metadata": {
    "collapsed": false
   },
   "outputs": [],
   "source": [
    "##《 Step 8 》\n",
    "#和現有食材字典dic match看看\n",
    "\n",
    "#test_file1 = open('joined.txt','r') \n",
    "test_file1 = open('ingre_dups1.txt','r') #no dup version 先測試用 (單位要在append)\n",
    "test_file2 = open('ingre_no_dups.txt','r') #no dups list\n",
    "test_file4 = open('match.txt','w')\n",
    "\n",
    "for i in test_file1.readlines():\n",
    "    a = i.split(',')[0] #食材名\n",
    "    if a in dic:\n",
    "        #print dic[a] + ',' +i\n",
    "        test_file4.write(dic[a] + ',' +i) #print 食材tag名 + 食材熱量細節\n",
    "test_file1.close()\n",
    "\n",
    "\n",
    "for i in test_file2.readlines():\n",
    "    a = i.split(',')[0] #食材名\n",
    "    if a in dic:\n",
    "        #print dic[a] + ',' +i\n",
    "        test_file4.write(dic[a] + ',' +i) #print 食材tag名 + 食材熱量細節\n",
    "test_file4.close()\n",
    "test_file2.close()\n",
    "\n",
    "#出來的match.txt : tag名, 食材名, 重量, 大卡, kal/g, 單位"
   ]
  },
  {
   "cell_type": "code",
   "execution_count": 10,
   "metadata": {
    "collapsed": false
   },
   "outputs": [
    {
     "name": "stdout",
     "output_type": "stream",
     "text": [
      "沒有match到的食材tag: 294\n"
     ]
    }
   ],
   "source": [
    "##《 Step 9 》\n",
    "#算一下沒有match到的食材tag; 程式和##《 Step 5 》的概念一樣\n",
    "\n",
    "test_file1 = open('ingredient_lists.txt','r')\n",
    "test_file4 = open('match.txt','r')\n",
    "test_file6 = open('unmatch_ingredients.txt','w')\n",
    "\n",
    "QaaList= []\n",
    "QccList= []\n",
    "for j in test_file1.readlines():\n",
    "    Qaa = j.split(',')[0]\n",
    "    QaaList.append(Qaa)\n",
    "for Qkk in test_file4.readlines():\n",
    "    Qcc = Qkk.split(',')[0]\n",
    "    QccList.append(Qcc)\n",
    "\n",
    "cnt = []    \n",
    "for Qxx in QaaList:    \n",
    "    if Qxx not in QccList:\n",
    "        cnt.append(Qxx)\n",
    "        test_file6.write(Qxx+'\\n')#還沒有熱量的主食材\n",
    "print \"沒有match到的食材tag: \" + str(len(cnt))\n",
    "\n",
    "test_file1.close()\n",
    "test_file6.close()\n",
    "test_file4.close()"
   ]
  },
  {
   "cell_type": "code",
   "execution_count": 12,
   "metadata": {
    "collapsed": false
   },
   "outputs": [
    {
     "name": "stdout",
     "output_type": "stream",
     "text": [
      "獨立食材 match  1212\n",
      "獨立食材 match%=  60.90%\n"
     ]
    }
   ],
   "source": [
    "##《 Step 10 》\n",
    "#算出獨立食材名; 程式和##《 Step 4 》的概念一樣\n",
    "\n",
    "qoo = open('match.txt','r')\n",
    "aqoo = open('match-count.txt','w')\n",
    "count = {}\n",
    "for i in qoo.readlines():\n",
    "    a = i.split(',')[1]\n",
    "    if a in count:\n",
    "        count[a] = count[a] + 1\n",
    "    else:\n",
    "        count[a] = 1\n",
    "print '獨立食材 match ', len(count)\n",
    "print '獨立食材 match%= ', format((float(len(count))/QQQ), '.2%')\n",
    "for k in count:\n",
    "    #print k,count[k]\n",
    "    aqoo.write(k +' '+ str(count[k])+'\\n')  \n",
    "aqoo.close()\n",
    "qoo.close()"
   ]
  },
  {
   "cell_type": "code",
   "execution_count": 13,
   "metadata": {
    "collapsed": false
   },
   "outputs": [
    {
     "name": "stdout",
     "output_type": "stream",
     "text": [
      "食材tag match:  772\n",
      "食材tag match%=  38.79%\n"
     ]
    }
   ],
   "source": [
    "##《 Step 11 》\n",
    "#算出獨立tag名; 程式和##《 Step 4 》, ##《 Step 10 》的概念一樣\n",
    "\n",
    "qoo = open('match.txt','r')\n",
    "aqoo = open('match-count.txt','w')\n",
    "count = {}\n",
    "for i in qoo.readlines():\n",
    "    a = i.split(',')[0]\n",
    "    if a in count:\n",
    "        count[a] = count[a] + 1\n",
    "    else:\n",
    "        count[a] = 1\n",
    "print '食材tag match: ', len(count)\n",
    "print '食材tag match%= ', format((float(len(count))/QQQ), '.2%')\n",
    "for k in count:\n",
    "    #print k,count[k]\n",
    "    aqoo.write(k +' '+ str(count[k])+'\\n')\n",
    "    \n",
    "aqoo.close()\n",
    "qoo.close()\n"
   ]
  },
  {
   "cell_type": "code",
   "execution_count": null,
   "metadata": {
    "collapsed": false
   },
   "outputs": [],
   "source": []
  }
 ],
 "metadata": {
  "kernelspec": {
   "display_name": "Python 2",
   "language": "python",
   "name": "python2"
  },
  "language_info": {
   "codemirror_mode": {
    "name": "ipython",
    "version": 2
   },
   "file_extension": ".py",
   "mimetype": "text/x-python",
   "name": "python",
   "nbconvert_exporter": "python",
   "pygments_lexer": "ipython2",
   "version": "2.7.9"
  }
 },
 "nbformat": 4,
 "nbformat_minor": 0
}
