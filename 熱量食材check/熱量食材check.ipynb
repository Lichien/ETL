{
 "cells": [
  {
   "cell_type": "code",
   "execution_count": 9,
   "metadata": {
    "collapsed": false
   },
   "outputs": [
    {
     "name": "stdout",
     "output_type": "stream",
     "text": [
      "主食材數量：  1085\n",
      "食材（含同義字）數量：  1990\n"
     ]
    }
   ],
   "source": [
    "#把同義詞建成字典\n",
    "test_file1 = open('ingredient_lists.txt','r')\n",
    "dic={}\n",
    "lines_counter = 0\n",
    "for i in test_file1.readlines():\n",
    "    if test_file1 != '\\n':\n",
    "        lines_counter += 1\n",
    "    if '' in i.split(','): \n",
    "        a = i.split(',')[:i.split(',').index('')] #如果有空白的話，把後面空白截掉\n",
    "        for j in a[1:]:\n",
    "            dic[j] = a[0] #把同義詞對到食材\n",
    "    else:\n",
    "        a = i.split(',') \n",
    "        for j in a[1:]:\n",
    "            dic[j] = a[0]\n",
    "            \n",
    "print '主食材數量： ', lines_counter\n",
    "QQQ = len(dic)-lines_counter\n",
    "print '食材（含同義字）數量： ', QQQ"
   ]
  },
  {
   "cell_type": "code",
   "execution_count": 138,
   "metadata": {
    "collapsed": false
   },
   "outputs": [],
   "source": [
    "#for k in dic:\n",
    "    #print k, dic[k]"
   ]
  },
  {
   "cell_type": "code",
   "execution_count": 10,
   "metadata": {
    "collapsed": false
   },
   "outputs": [],
   "source": [
    "#skip duplicate 篩檔案重複的row\n",
    "in_file = open('All.txt','r')\n",
    "out_file = open('All-no-dup.txt','w')\n",
    "unique = set()\n",
    "for line in in_file.readlines():\n",
    "    if line in unique: \n",
    "        continue \n",
    "    else:\n",
    "        unique.add(line)\n",
    "        out_file.write(line)\n",
    "in_file.close()\n",
    "out_file.close()"
   ]
  },
  {
   "cell_type": "code",
   "execution_count": 11,
   "metadata": {
    "collapsed": false
   },
   "outputs": [],
   "source": [
    "#把第一欄的東東切乾淨\n",
    "in_file = open('All-no-dup.txt','r')\n",
    "out_file = open('All-clean.txt','w')\n",
    "for i in in_file.readlines():\n",
    "    a = i.split(',')[0]\n",
    "    #print a\n",
    "    c = i.split(',',1)[1]\n",
    "    if '（' in a:\n",
    "        b = a.split('（')[0]\n",
    "        out_file.write((b+','+c))\n",
    "    elif '(' in a:\n",
    "        b = a.split('(')[0]\n",
    "        out_file.write((b+','+c))\n",
    "    else:\n",
    "        out_file.write(i)\n",
    "in_file.close()\n",
    "out_file.close()"
   ]
  },
  {
   "cell_type": "code",
   "execution_count": 12,
   "metadata": {
    "collapsed": false
   },
   "outputs": [],
   "source": [
    "\n",
    "test_file1 = open('All-clean.txt','r')\n",
    "#test_file2 = open('ingredient_lists.txt','r')\n",
    "test_file3 = open('unmatch.txt','w')\n",
    "test_file4 = open('match.txt','w')\n",
    "\n",
    "\n",
    "for i in test_file1.readlines():\n",
    "    a = i.split(',')[0]\n",
    "    if a in dic:\n",
    "        #print dic[a] + ',' +i\n",
    "        test_file4.write(dic[a] + ',' +i) #print 主食材名 + 我們抓的食材熱量細節\n",
    "    else:\n",
    "        test_file3.write(i)\n",
    "\n",
    "test_file4.close()\n",
    "test_file3.close()\n",
    "#test_file2.close()\n",
    "test_file1.close()"
   ]
  },
  {
   "cell_type": "code",
   "execution_count": 13,
   "metadata": {
    "collapsed": false
   },
   "outputs": [],
   "source": [
    "test_file1 = open('ingredient_lists.txt','r')\n",
    "test_file4 = open('match.txt','r')\n",
    "test_file6 = open('unmatch_ingredients.txt','w')\n",
    "\n",
    "QaaList= []\n",
    "QccList= []\n",
    "for j in test_file1.readlines():\n",
    "    Qaa = j.split(',')[0]\n",
    "    QaaList.append(Qaa)\n",
    "for Qkk in test_file4.readlines():\n",
    "    Qcc = Qkk.split(',')[0]\n",
    "    QccList.append(Qcc)\n",
    "    \n",
    "for Qxx in QaaList:    \n",
    "    if Qxx not in QccList:\n",
    "        #print Qxx\n",
    "        test_file6.write(Qxx+'\\n')#還沒有熱量的主食材\n",
    "\n",
    "test_file1.close()\n",
    "test_file6.close()\n",
    "test_file4.close()"
   ]
  },
  {
   "cell_type": "code",
   "execution_count": 14,
   "metadata": {
    "collapsed": false
   },
   "outputs": [
    {
     "name": "stdout",
     "output_type": "stream",
     "text": [
      "食材（含同義字） match  1199\n",
      "食材（含同義字） match%=  60.251%\n",
      "==========\n"
     ]
    }
   ],
   "source": [
    "#算出獨立食材名\n",
    "import operator\n",
    "qoo = open('match.txt','r')\n",
    "aqoo = open('match-count.txt','w')\n",
    "count = {}\n",
    "for i in qoo.readlines():\n",
    "    a = i.split(',')[1]\n",
    "    if a in count:\n",
    "        count[a] = count[a] + 1\n",
    "    else:\n",
    "        count[a] = 1\n",
    "print '食材（含同義字） match ', len(count)\n",
    "print '食材（含同義字） match%= ', format((float(len(count))/QQQ), '.3%')\n",
    "print '=========='\n",
    "for k in count:\n",
    "    #print k,count[k]\n",
    "    aqoo.write(k +' '+ str(count[k])+'\\n')\n",
    "    \n",
    "aqoo.close()\n",
    "qoo.close()\n",
    "#match 919筆"
   ]
  },
  {
   "cell_type": "code",
   "execution_count": 15,
   "metadata": {
    "collapsed": false
   },
   "outputs": [
    {
     "name": "stdout",
     "output_type": "stream",
     "text": [
      "獨立tag match  768\n",
      "獨立tag match%=  38.593%\n",
      "==========\n"
     ]
    }
   ],
   "source": [
    "#算出獨立類別名\n",
    "import operator\n",
    "import math\n",
    "qoo = open('match.txt','r')\n",
    "aqoo = open('match-count.txt','w')\n",
    "count = {}\n",
    "for i in qoo.readlines():\n",
    "    a = i.split(',')[0]\n",
    "    if a in count:\n",
    "        count[a] = count[a] + 1\n",
    "    else:\n",
    "        count[a] = 1\n",
    "print '獨立tag match ', len(count)\n",
    "print '獨立tag match%= ', format((float(len(count))/QQQ), '.3%')\n",
    "print '=========='\n",
    "for k in count:\n",
    "    #print k,count[k]\n",
    "    aqoo.write(k +' '+ str(count[k])+'\\n')\n",
    "    \n",
    "aqoo.close()\n",
    "qoo.close()\n",
    "#match 598筆"
   ]
  },
  {
   "cell_type": "code",
   "execution_count": null,
   "metadata": {
    "collapsed": false
   },
   "outputs": [],
   "source": [
    "import requests\n",
    "from bs4 import BeautifulSoup\n",
    "myfitnesspal = open('myfitnesspal.txt', 'w')\n",
    "page_format= ('http://www.myfitnesspal.com.tw/food/update_nutrition_facts/%d')\n",
    "for page in range(100000000, 200000000):\n",
    "    res = requests.get(page_format%(page))\n",
    "    soup = BeautifulSoup(res.text) \n",
    "    try:\n",
    "        if soup.select('.food-description')[0].text is not None:\n",
    "            Qaa = soup.select('.food-description')[0].text\n",
    "            Qbb = soup.select('select#food_entry_weight_id option')[0].text\n",
    "            Qcc = soup.select('#nutrition-facts .col-2')[2].text\n",
    "            myfitnesspal.write(Qaa+','+Qbb+','+Qcc+'\\n')\n",
    "    except:\n",
    "        pass\n",
    "myfitnesspal.close()"
   ]
  },
  {
   "cell_type": "code",
   "execution_count": 211,
   "metadata": {
    "collapsed": false
   },
   "outputs": [
    {
     "name": "stdout",
     "output_type": "stream",
     "text": [
      "Wine,1 meal,122\n",
      "\n"
     ]
    }
   ],
   "source": [
    "import requests\n",
    "from bs4 import BeautifulSoup\n",
    "res = requests.get('http://www.myfitnesspal.com.tw/food/update_nutrition_facts/100000000')\n",
    "soup = BeautifulSoup(res.text) \n",
    "if soup.select('.food-description')[0].text is not None:\n",
    "    Qaa = soup.select('.food-description')[0].text\n",
    "    Qbb = soup.select('select#food_entry_weight_id option')[0].text\n",
    "    Qcc = soup.select('#nutrition-facts .col-2')[2].text\n",
    "    print Qaa+','+Qbb+','+Qcc+'\\n'"
   ]
  },
  {
   "cell_type": "code",
   "execution_count": null,
   "metadata": {
    "collapsed": true
   },
   "outputs": [],
   "source": []
  }
 ],
 "metadata": {
  "kernelspec": {
   "display_name": "Python 2",
   "language": "python",
   "name": "python2"
  },
  "language_info": {
   "codemirror_mode": {
    "name": "ipython",
    "version": 2
   },
   "file_extension": ".py",
   "mimetype": "text/x-python",
   "name": "python",
   "nbconvert_exporter": "python",
   "pygments_lexer": "ipython2",
   "version": "2.7.9"
  }
 },
 "nbformat": 4,
 "nbformat_minor": 0
}
